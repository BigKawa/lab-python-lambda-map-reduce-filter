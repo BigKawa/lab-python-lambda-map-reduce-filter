{
 "cells": [
  {
   "cell_type": "markdown",
   "id": "25d7736c-ba17-4aff-b6bb-66eba20fbf4e",
   "metadata": {},
   "source": [
    "# Lab | Lambda Functions, Map, Reduce, Filter"
   ]
  },
  {
   "cell_type": "markdown",
   "id": "6f8e446f-16b4-4e21-92e7-9d3d1eb551b6",
   "metadata": {},
   "source": [
    "Objective: The objective of this lab is to help students gain familiarity with using anonymous lambda functions and map, reduce, and filter methods in Python."
   ]
  },
  {
   "cell_type": "markdown",
   "id": "0120f101-3f9a-444c-84b9-a10a990a5f95",
   "metadata": {},
   "source": [
    "Lambda functions, map, reduce, and filter are all related to functional programming in Python. \n",
    "\n",
    "**Lambda functions** are anonymous functions in Python, which means that they do not need to be defined with a name. They are typically used for short, one-line functions that are not going to be used elsewhere in the code. \n",
    "\n",
    "Lambda functions can take any number of arguments, but they can only contain a single expression. They are often used in combination with other built-in functions like map, reduce, and filter to perform operations on lists or other iterables."
   ]
  },
  {
   "cell_type": "markdown",
   "id": "7afb4d9e-63a9-4326-87f1-a0915769721c",
   "metadata": {},
   "source": [
    "**Map** is a function that applies a given function to every element of a list, returning a new list with the transformed values. It's a useful way to apply the same operation to every element of a list, without having to write a for loop.\n",
    "\n",
    "**Reduce** is a function that applies a given function to the first two elements of a list, then applies the same function to the result and the next element, and so on, until it has reduced the list to a single value. It's useful for performing cumulative operations like summing or multiplying a list of numbers.\n",
    "\n",
    "**Filter** is a function that takes a function and a list, and returns a new list containing only the elements of the original list for which the function returns True. It's a useful way to selectively extract elements from a list based on a certain condition."
   ]
  },
  {
   "cell_type": "markdown",
   "id": "053ee1bc-59fa-4cf8-9191-916b6cdc5811",
   "metadata": {},
   "source": [
    "All of these concepts can be used to make your code more concise and expressive, especially when working with lists or other iterables. They are also useful in data manipulation tasks, such as cleaning and transforming data in a pandas DataFrame. By practicing with these concepts in the lab, you will gain a better understanding of how to use them in a variety of programming tasks."
   ]
  },
  {
   "cell_type": "markdown",
   "id": "65df3710-f236-4818-9a4f-43bfd53cad7c",
   "metadata": {},
   "source": [
    "## Challenge 1"
   ]
  },
  {
   "cell_type": "markdown",
   "id": "0e704740-6ac4-49d0-b25b-960cf8511a04",
   "metadata": {},
   "source": [
    "In this Challenge we will use the following data, which is a list of bank transactions:"
   ]
  },
  {
   "cell_type": "code",
   "execution_count": 1,
   "id": "08463071-9351-4d49-8d29-4fcb817fb177",
   "metadata": {},
   "outputs": [],
   "source": [
    "transactions = [(-1200, 'debit'), (2500, 'credit'), (-100, 'debit'), (850, 'credit'), (-250, 'debit'), (1500, 'credit'), (-300, 'debit'), (5000, 'credit'), (-850, 'debit'), (1000, 'credit')]"
   ]
  },
  {
   "cell_type": "markdown",
   "id": "ae7d88f0-a8e7-4f74-98d3-802306bdcf07",
   "metadata": {},
   "source": [
    "### Exercise 1"
   ]
  },
  {
   "cell_type": "markdown",
   "id": "16796011-a618-499a-a57f-4ca61d0a77e7",
   "metadata": {},
   "source": [
    "Create a new list called credits that includes all of the debit transactions from the list transactions.\n",
    "\n",
    "Use the filter() function to create a new list called debits."
   ]
  },
  {
   "cell_type": "code",
   "execution_count": 3,
   "id": "0781335d-39cf-403d-b86a-ca908a09fe55",
   "metadata": {},
   "outputs": [],
   "source": [
    "# your code goes here\n",
    "debit_list = list(filter(lambda item:item[1] == \"debit\", transactions))"
   ]
  },
  {
   "cell_type": "code",
   "execution_count": 5,
   "id": "a64d468e-57c2-400e-a40e-05b68753f522",
   "metadata": {},
   "outputs": [
    {
     "data": {
      "text/plain": [
       "[(-1200, 'debit'),\n",
       " (-100, 'debit'),\n",
       " (-250, 'debit'),\n",
       " (-300, 'debit'),\n",
       " (-850, 'debit')]"
      ]
     },
     "execution_count": 5,
     "metadata": {},
     "output_type": "execute_result"
    }
   ],
   "source": [
    "debit_list"
   ]
  },
  {
   "cell_type": "markdown",
   "id": "37ca34af-7f87-44f2-a45d-1a1e2ef8c194",
   "metadata": {},
   "source": [
    "### Exercise 2"
   ]
  },
  {
   "cell_type": "markdown",
   "id": "546c5aa2-6f16-4285-9c47-0f788b23552c",
   "metadata": {},
   "source": [
    "Create a new list that includes all of the debit transactions from the list transactions, sorted in descending order by amount.\n",
    "\n",
    "- Use the previously created debits list.\n",
    "--- Define a lambda function called sort_descending that takes two tuples and returns True if the transaction amount of the first tuple is greater than the transaction amount of the second tuple. ---\n",
    "- Use the sorted() function with new lambda func and debits to create a new list.\n",
    "- instead create your own function to create a new list"
   ]
  },
  {
   "cell_type": "code",
   "execution_count": 9,
   "id": "ba8e590d-8104-431c-b539-97b6558f6f02",
   "metadata": {},
   "outputs": [
    {
     "name": "stdout",
     "output_type": "stream",
     "text": [
      "Help on built-in function sorted in module builtins:\n",
      "\n",
      "sorted(iterable, /, *, key=None, reverse=False)\n",
      "    Return a new list containing all items from the iterable in ascending order.\n",
      "\n",
      "    A custom key function can be supplied to customize the sort order, and the\n",
      "    reverse flag can be set to request the result in descending order.\n",
      "\n"
     ]
    }
   ],
   "source": [
    "help(sorted)"
   ]
  },
  {
   "cell_type": "code",
   "execution_count": 11,
   "id": "25073469-7258-4fc6-b0a0-ef8ea57688fe",
   "metadata": {},
   "outputs": [
    {
     "data": {
      "text/plain": [
       "[(-100, 'debit'),\n",
       " (-250, 'debit'),\n",
       " (-300, 'debit'),\n",
       " (-850, 'debit'),\n",
       " (-1200, 'debit')]"
      ]
     },
     "execution_count": 11,
     "metadata": {},
     "output_type": "execute_result"
    }
   ],
   "source": [
    "# your code goes here\n",
    "\n",
    "# test (2,\"\") (1,\"\") (4,\"\") \n",
    "\n",
    "# sort_descending = lambda tuple1, tuple2: True if tuple1[0] > tuple2[0] else False\n",
    "\n",
    "# sort_descending = lambda tuple1, tuple2: True if tuple1[0] > tuple2[0] else False\n",
    "\n",
    "\n",
    "sorted_descending_debit = sorted(debit_list, key= lambda item:item[0], reverse= True)\n",
    "sorted_descending_debit\n",
    "\n"
   ]
  },
  {
   "cell_type": "markdown",
   "id": "bee57a6e-19a3-4708-9b70-3b41a215353f",
   "metadata": {},
   "source": [
    "## Challenge 2:  Interest Calculation"
   ]
  },
  {
   "cell_type": "markdown",
   "id": "4e7c9f00-7c48-4c39-9de1-14db7fc468eb",
   "metadata": {},
   "source": [
    "### Exercise 1"
   ]
  },
  {
   "cell_type": "markdown",
   "id": "3500df4c-91bd-4f8f-9ffe-4d6a51460bc6",
   "metadata": {},
   "source": [
    "Write Python code to take a list of bank account balances, and returns a new list containing the balance after one year of interest has been added. Use the map function to apply this function to the list of bank accounts, and take an interest rate of 0.05."
   ]
  },
  {
   "cell_type": "code",
   "execution_count": 16,
   "id": "e1de9d03-f029-4e2e-9733-ae92e3de7527",
   "metadata": {},
   "outputs": [],
   "source": [
    "# create list of bank account balances\n",
    "balances = [100, 50, -25, 1000, -10]"
   ]
  },
  {
   "cell_type": "code",
   "execution_count": 18,
   "id": "2f253b7e-5300-4819-b38f-9fc090554f51",
   "metadata": {},
   "outputs": [],
   "source": [
    "# your code goes here\n",
    "interest_calc = lambda amount:amount+(amount*0.05)\n",
    "\n",
    "new_balance_list =list(map(interest_calc, balances))"
   ]
  },
  {
   "cell_type": "code",
   "execution_count": 20,
   "id": "a8241895-e473-4ff0-aad5-ff1e3d08e689",
   "metadata": {},
   "outputs": [
    {
     "data": {
      "text/plain": [
       "[100, 50, -25, 1000, -10]"
      ]
     },
     "execution_count": 20,
     "metadata": {},
     "output_type": "execute_result"
    }
   ],
   "source": [
    "balances"
   ]
  },
  {
   "cell_type": "code",
   "execution_count": 22,
   "id": "d7ac6bfc-59c6-43a4-ab0d-33df8561b0e1",
   "metadata": {},
   "outputs": [
    {
     "data": {
      "text/plain": [
       "[105.0, 52.5, -26.25, 1050.0, -10.5]"
      ]
     },
     "execution_count": 22,
     "metadata": {},
     "output_type": "execute_result"
    }
   ],
   "source": [
    "new_balance_list"
   ]
  },
  {
   "cell_type": "markdown",
   "id": "6a515b75-8ccb-4ee3-9dc0-f36d72ac66a0",
   "metadata": {},
   "source": [
    "### Exercise 2"
   ]
  },
  {
   "cell_type": "markdown",
   "id": "7022779a-7611-428b-8f7d-138e923a63b8",
   "metadata": {},
   "source": [
    "Write Python code to take a list of bank account dictionaries, each containing the account balance and interest rate, and returns a new list of dictionaries containing the balance after one year of interest has been added. Use the map function to apply this function to the list of bank accounts."
   ]
  },
  {
   "cell_type": "code",
   "execution_count": 26,
   "id": "fac4051e-8d98-493a-9d7e-feea1ebd4729",
   "metadata": {},
   "outputs": [
    {
     "name": "stdout",
     "output_type": "stream",
     "text": [
      "Help on class map in module builtins:\n",
      "\n",
      "class map(object)\n",
      " |  map(func, *iterables) --> map object\n",
      " |\n",
      " |  Make an iterator that computes the function using arguments from\n",
      " |  each of the iterables.  Stops when the shortest iterable is exhausted.\n",
      " |\n",
      " |  Methods defined here:\n",
      " |\n",
      " |  __getattribute__(self, name, /)\n",
      " |      Return getattr(self, name).\n",
      " |\n",
      " |  __iter__(self, /)\n",
      " |      Implement iter(self).\n",
      " |\n",
      " |  __next__(self, /)\n",
      " |      Implement next(self).\n",
      " |\n",
      " |  __reduce__(...)\n",
      " |      Return state information for pickling.\n",
      " |\n",
      " |  ----------------------------------------------------------------------\n",
      " |  Static methods defined here:\n",
      " |\n",
      " |  __new__(*args, **kwargs)\n",
      " |      Create and return a new object.  See help(type) for accurate signature.\n",
      "\n"
     ]
    }
   ],
   "source": [
    "help(map)"
   ]
  },
  {
   "cell_type": "code",
   "execution_count": 28,
   "id": "69e24c3b-385e-44d6-a8ed-705a3f58e696",
   "metadata": {},
   "outputs": [],
   "source": [
    "accounts = [\n",
    "    {'balance': 1000, 'interest_rate': 0.02},\n",
    "    {'balance': 2000, 'interest_rate': 0.01},\n",
    "    {'balance': 500, 'interest_rate': 0.03},\n",
    "]"
   ]
  },
  {
   "cell_type": "code",
   "execution_count": 30,
   "id": "0906a9b0-d567-4786-96f2-5755611b885e",
   "metadata": {},
   "outputs": [],
   "source": [
    "# your code goes here\n",
    "new_accounts = list(map(lambda dic:(dic[\"balance\"],dic[\"balance\"]+(dic[\"balance\"]*dic[\"interest_rate\"])),accounts))"
   ]
  },
  {
   "cell_type": "code",
   "execution_count": 32,
   "id": "09ab3e7d-e638-4615-a087-5712417ba538",
   "metadata": {},
   "outputs": [
    {
     "data": {
      "text/plain": [
       "[(1000, 1020.0), (2000, 2020.0), (500, 515.0)]"
      ]
     },
     "execution_count": 32,
     "metadata": {},
     "output_type": "execute_result"
    }
   ],
   "source": [
    "new_accounts"
   ]
  },
  {
   "cell_type": "code",
   "execution_count": null,
   "id": "3cbd2c5d-93be-42b9-af43-fb78175c7e54",
   "metadata": {},
   "outputs": [],
   "source": []
  },
  {
   "cell_type": "markdown",
   "id": "68190c4c-2504-4d00-9d5f-53828e7bdaaf",
   "metadata": {},
   "source": [
    "# your code goes here\n",
    "new_accounts = list(map(lambda dic:(dic[\"balance\"], # This is the KEY\n",
    "                    dic[\"balance\"]+(dic[\"balance\"]*dic[\"interest_rate\"])),# THIS IS THE ITEM\n",
    "                    accounts) THIS IS THE LIST\n",
    "                    )"
   ]
  },
  {
   "cell_type": "markdown",
   "id": "69788c08-90c5-4c15-be3d-55ac4a963fe2",
   "metadata": {},
   "source": [
    "## Challenge 3: Balance Reduction"
   ]
  },
  {
   "cell_type": "markdown",
   "id": "81536227-379c-461f-b564-6695957bd0c1",
   "metadata": {},
   "source": [
    "### Exercise 1"
   ]
  },
  {
   "cell_type": "markdown",
   "id": "1006852a-42fc-4aae-bc0a-c771a94f6b2d",
   "metadata": {},
   "source": [
    "Write Python code to take the new list of bank account balances (balances list after applying an interest_rate of 0.05, result of Challenge 2 Exercise 1), and print the total amount of negative balances. Use filter and reduce function."
   ]
  },
  {
   "cell_type": "code",
   "execution_count": 39,
   "id": "ff7912c0-75cb-4404-8b64-803d01d05c45",
   "metadata": {},
   "outputs": [
    {
     "data": {
      "text/plain": [
       "[105.0, 52.5, -26.25, 1050.0, -10.5]"
      ]
     },
     "execution_count": 39,
     "metadata": {},
     "output_type": "execute_result"
    }
   ],
   "source": [
    "new_balance_list"
   ]
  },
  {
   "cell_type": "code",
   "execution_count": 67,
   "id": "2cc2586d-585b-4f85-ab2c-9e05f7196b5d",
   "metadata": {},
   "outputs": [
    {
     "name": "stdout",
     "output_type": "stream",
     "text": [
      "Help on built-in function reduce in module _functools:\n",
      "\n",
      "reduce(...)\n",
      "    reduce(function, iterable[, initial]) -> value\n",
      "\n",
      "    Apply a function of two arguments cumulatively to the items of a sequence\n",
      "    or iterable, from left to right, so as to reduce the iterable to a single\n",
      "    value.  For example, reduce(lambda x, y: x+y, [1, 2, 3, 4, 5]) calculates\n",
      "    ((((1+2)+3)+4)+5).  If initial is present, it is placed before the items\n",
      "    of the iterable in the calculation, and serves as a default when the\n",
      "    iterable is empty.\n",
      "\n"
     ]
    }
   ],
   "source": [
    "help(reduce)"
   ]
  },
  {
   "cell_type": "code",
   "execution_count": null,
   "id": "a7091158-e92c-4ca3-8d5a-bd3a2021239c",
   "metadata": {},
   "outputs": [],
   "source": [
    "help(filter)"
   ]
  },
  {
   "cell_type": "code",
   "execution_count": null,
   "id": "6284dbd3-e117-411e-8087-352be6deaed4",
   "metadata": {},
   "outputs": [],
   "source": [
    "from functools import reduce\n",
    "\n",
    "# use filter and reduce\n",
    "\n",
    "test = list(filter(lambda x: x < 0, new_balance_list))\n",
    "test1 = reduce(lambda x,y:x+y, test)\n",
    "\n",
    "print(F\"This is negative amount: {test1}\")\n",
    "# lambda x:y if x < 0 else 0\n",
    "# your code goes here\n",
    "\n",
    "# negative_balances_amount = reduce(lambda x:x, new_balance_list)"
   ]
  },
  {
   "cell_type": "markdown",
   "id": "3926594f-3204-4de3-a6bf-bd87069a82cc",
   "metadata": {},
   "source": [
    "### Exercise 2"
   ]
  },
  {
   "cell_type": "markdown",
   "id": "6149139b-43db-473b-a10e-8bff9a38dcbf",
   "metadata": {},
   "source": [
    "Write a Python function called calculate_balance that takes a bank account list of dictionaries as an argument and returns the remaining balance after subtracting all the withdrawals.\n",
    "\n",
    "Then, use the map function and the calculate_balance function to apply it to the list accounts. This should give you a list of remaining balances after all the withdrawals have been subtracted."
   ]
  },
  {
   "cell_type": "code",
   "execution_count": 46,
   "id": "1626110e-52ac-4d0f-885d-e88203b3f3ee",
   "metadata": {},
   "outputs": [],
   "source": [
    "from functools import reduce"
   ]
  },
  {
   "cell_type": "code",
   "execution_count": 48,
   "id": "6f2c50c2-85a5-46f7-9a50-ea915006973f",
   "metadata": {},
   "outputs": [],
   "source": [
    "accounts = [\n",
    "    {'balance': 1000, 'withdrawals': [100, 50, 200]},\n",
    "    {'balance': 2000, 'withdrawals': [300, 100]},\n",
    "    {'balance': 500, 'withdrawals': [50, 100, 75]},\n",
    "]\n"
   ]
  },
  {
   "cell_type": "markdown",
   "id": "b482440b-cbc9-438c-b03e-e19f291af4c8",
   "metadata": {},
   "source": [
    "def calculate_balance(accounts):\n",
    "    new_balance = list()\n",
    "    for i in range(len(accounts)):\n",
    "        new = accounts[i][\"balance\"] - reduce(lambda x,y:x+y, accounts[i][\"withdrawals\"])\n",
    "        new_balance.append(new)\n",
    "    return new_balance\n"
   ]
  },
  {
   "cell_type": "code",
   "execution_count": 89,
   "id": "d2965f33-7cf1-42ef-bf64-de2cb69cec37",
   "metadata": {},
   "outputs": [],
   "source": [
    "def calculate_balance(accounts):\n",
    "    #summing up withdrawals\n",
    "    total_withdrawals = reduce(lambda x,y:x+y, accounts[\"withdrawals\"])\n",
    "    return accounts[\"balance\"] - total_withdrawals\n"
   ]
  },
  {
   "cell_type": "code",
   "execution_count": 97,
   "id": "bee78a8a-9ff4-4218-852d-eee396351eec",
   "metadata": {},
   "outputs": [],
   "source": [
    "new_balances = list(map(calculate_balance, accounts))"
   ]
  },
  {
   "cell_type": "code",
   "execution_count": 99,
   "id": "a8ed4016-c22a-4d9b-a3d6-5996eb8a846b",
   "metadata": {},
   "outputs": [
    {
     "data": {
      "text/plain": [
       "[650, 1600, 275]"
      ]
     },
     "execution_count": 99,
     "metadata": {},
     "output_type": "execute_result"
    }
   ],
   "source": [
    "new_balances"
   ]
  },
  {
   "cell_type": "code",
   "execution_count": null,
   "id": "b58ad5a1-8068-4ab2-9e7e-e6cd1ed7cb3e",
   "metadata": {},
   "outputs": [],
   "source": []
  },
  {
   "cell_type": "code",
   "execution_count": null,
   "id": "4fce8bfa-ebfb-47a7-9f0d-5f99cd26f7e7",
   "metadata": {},
   "outputs": [],
   "source": []
  },
  {
   "cell_type": "code",
   "execution_count": null,
   "id": "22b65e3d-b93c-4b51-bcb1-5dc61111ef96",
   "metadata": {},
   "outputs": [],
   "source": []
  },
  {
   "cell_type": "code",
   "execution_count": null,
   "id": "44358cc1-dcad-4021-8005-d15d64c8626c",
   "metadata": {},
   "outputs": [],
   "source": []
  },
  {
   "cell_type": "code",
   "execution_count": null,
   "id": "0f804578-0110-45ed-8d3f-2366a6e2afb7",
   "metadata": {},
   "outputs": [],
   "source": []
  },
  {
   "cell_type": "code",
   "execution_count": null,
   "id": "b8646792-9f31-4e08-b3a8-2d84f6e80788",
   "metadata": {},
   "outputs": [],
   "source": []
  },
  {
   "cell_type": "code",
   "execution_count": null,
   "id": "37b7491d-7025-45c8-8b8a-a8ab7362a61f",
   "metadata": {},
   "outputs": [],
   "source": []
  },
  {
   "cell_type": "code",
   "execution_count": 101,
   "id": "37098d1f-e9bb-4253-802b-eb8e383d5768",
   "metadata": {},
   "outputs": [],
   "source": [
    "test = [\n",
    "    {'balance': 1000, 'withdrawals': [100, 50, 200]},\n",
    "    {'balance': 2000, 'withdrawals': [300, 100]},\n",
    "    {'balance': 500, 'withdrawals': [50, 100, 75]},\n",
    "]\n",
    "\n",
    "new_test = [650, 1600, 275]"
   ]
  },
  {
   "cell_type": "code",
   "execution_count": 113,
   "id": "9974d5fb-d990-4874-96d0-94da43ec1f7e",
   "metadata": {},
   "outputs": [],
   "source": [
    "new = list(map(lambda key,value:key.update({\"new balance\":new_test}),test,new_test))"
   ]
  },
  {
   "cell_type": "code",
   "execution_count": null,
   "id": "50663f37-9406-4b47-b973-3eb6211c7b60",
   "metadata": {},
   "outputs": [],
   "source": []
  }
 ],
 "metadata": {
  "kernelspec": {
   "display_name": "Python 3 (ipykernel)",
   "language": "python",
   "name": "python3"
  },
  "language_info": {
   "codemirror_mode": {
    "name": "ipython",
    "version": 3
   },
   "file_extension": ".py",
   "mimetype": "text/x-python",
   "name": "python",
   "nbconvert_exporter": "python",
   "pygments_lexer": "ipython3",
   "version": "3.12.4"
  }
 },
 "nbformat": 4,
 "nbformat_minor": 5
}
